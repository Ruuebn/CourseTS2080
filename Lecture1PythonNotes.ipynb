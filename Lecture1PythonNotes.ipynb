{
 "cells": [
  {
   "cell_type": "code",
   "execution_count": 3,
   "id": "820dd9ef",
   "metadata": {},
   "outputs": [],
   "source": [
    "from abc import ABC, abstractmethod\n",
    "\n",
    "class Animal(ABC):\n",
    "    def sleep(self):\n",
    "        print(\"a\")\n",
    "    @abstractmethod\n",
    "    def sound(self):\n",
    "        print(\"to be inherited\")\n",
    "\n",
    "class Snake(Animal):\n",
    "    def sound(self):\n",
    "        print(\"hiss\")\n",
    "\n",
    "class Rabbit(Animal):\n",
    "    def sound(self):\n",
    "        super().sound()\n",
    "        print(\"squeak\")\n",
    "\n",
    "class Deer(Animal):\n",
    "    pass\n"
   ]
  },
  {
   "cell_type": "code",
   "execution_count": 4,
   "id": "f3d7f980",
   "metadata": {},
   "outputs": [
    {
     "name": "stdout",
     "output_type": "stream",
     "text": [
      "to be inherited\n",
      "hiss\n"
     ]
    }
   ],
   "source": [
    "s = Snake()\n",
    "s.sound()"
   ]
  },
  {
   "cell_type": "code",
   "execution_count": 14,
   "id": "a611ece8",
   "metadata": {},
   "outputs": [
    {
     "name": "stdout",
     "output_type": "stream",
     "text": [
      "Hello parent1\n",
      "Hello parent2\n",
      "Hello child\n"
     ]
    }
   ],
   "source": [
    "class parent1:\n",
    "    def func1(self):\n",
    "        print(\"Hello parent1\")\n",
    "\n",
    "class parent2:\n",
    "    def func2(self):\n",
    "        print(\"Hello parent2\")\n",
    "\n",
    "class parent3:\n",
    "    def func2(self):\n",
    "        print(\"Hello parent3\")\n",
    "\n",
    "class child(parent1, parent2, parent3):\n",
    "    def func3(self):\n",
    "        print(\"Hello child\")\n",
    "\n",
    "test = child()\n",
    "test.func1()\n",
    "test.func2()\n",
    "test.func3()"
   ]
  },
  {
   "cell_type": "code",
   "execution_count": 3,
   "id": "19812a13",
   "metadata": {},
   "outputs": [
    {
     "name": "stdout",
     "output_type": "stream",
     "text": [
      "True\n",
      "False \n",
      "\n",
      "True\n",
      "True\n",
      "False\n",
      "True\n"
     ]
    }
   ],
   "source": [
    "class parent:\n",
    "    def func1():\n",
    "        print(\"Hello parent\")\n",
    "\n",
    "class child(parent):\n",
    "    def func2():\n",
    "        print(\"Hello child\")\n",
    "        \n",
    "print(issubclass(child, parent))\n",
    "print(issubclass(parent, child), '\\n')\n",
    "\n",
    "A = child()\n",
    "B = parent()\n",
    "\n",
    "print(isinstance(A, child))\n",
    "print(isinstance(A, parent))\n",
    "print(isinstance(B, child))\n",
    "print(isinstance(B, parent))"
   ]
  },
  {
   "cell_type": "code",
   "execution_count": null,
   "id": "8348658b",
   "metadata": {},
   "outputs": [],
   "source": []
  }
 ],
 "metadata": {
  "kernelspec": {
   "display_name": "Python 3 (ipykernel)",
   "language": "python",
   "name": "python3"
  },
  "language_info": {
   "codemirror_mode": {
    "name": "ipython",
    "version": 3
   },
   "file_extension": ".py",
   "mimetype": "text/x-python",
   "name": "python",
   "nbconvert_exporter": "python",
   "pygments_lexer": "ipython3",
   "version": "3.9.12"
  }
 },
 "nbformat": 4,
 "nbformat_minor": 5
}
